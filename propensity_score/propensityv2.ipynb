{
 "cells": [
  {
   "cell_type": "code",
   "execution_count": 36,
   "metadata": {},
   "outputs": [],
   "source": [
    "import csv\n",
    "import pandas as pd\n",
    "import numpy as np\n",
    "import matplotlib.pyplot as plt\n",
    "%matplotlib inline"
   ]
  },
  {
   "cell_type": "code",
   "execution_count": 37,
   "metadata": {},
   "outputs": [],
   "source": [
    "df=pd.read_csv(\"./q_data_x.csv\")"
   ]
  },
  {
   "cell_type": "code",
   "execution_count": 38,
   "metadata": {},
   "outputs": [
    {
     "data": {
      "image/png": "[encoded data removed]",
      "text/plain": [
       "<matplotlib.figure.Figure at 0x7f5dfa295f28>"
      ]
     },
     "metadata": {},
     "output_type": "display_data"
    }
   ],
   "source": [
    "#処置群と対象群のhistgram\n",
    "plt.hist(df.query(\"cm_dummy==1\")[\"TVwatch_day\"], bins=50, alpha=0.3, histtype='stepfilled', color='r',range=(0,50000))\n",
    "plt.hist(df.query(\"cm_dummy==0\")[\"TVwatch_day\"], bins=50, alpha=0.3, histtype='stepfilled', color='b',range=(0,50000))\n",
    "plt.show()"
   ]
  },
  {
   "cell_type": "code",
   "execution_count": 39,
   "metadata": {},
   "outputs": [
    {
     "name": "stdout",
     "output_type": "stream",
     "text": [
      "2478.0658783783783\n",
      "3107.7064549180327\n"
     ]
    },
    {
     "data": {
      "text/plain": [
       "-629.6405765396544"
      ]
     },
     "execution_count": 39,
     "metadata": {},
     "output_type": "execute_result"
    }
   ],
   "source": [
    "#CM視聴者のTV視聴時間\n",
    "print(df.query(\"cm_dummy==1\")[\"gamesecond\"].mean())\n",
    "print(df.query(\"cm_dummy==0\")[\"gamesecond\"].mean())\n",
    "df.query(\"cm_dummy==1\")[\"gamesecond\"].mean()-df.query(\"cm_dummy==0\")[\"gamesecond\"].mean()"
   ]
  },
  {
   "cell_type": "markdown",
   "metadata": {},
   "source": [
    "TVを見ないほうが600秒近くゲームをする時間が長い"
   ]
  },
  {
   "cell_type": "code",
   "execution_count": 40,
   "metadata": {},
   "outputs": [],
   "source": [
    "#傾向スコアを出すための準備\n",
    "#（ここの決め方が実は難しいのでは？）\n",
    "X = df.drop(['cm_dummy', 'gamedummy','gamesecond', 'gamecount',\"area_keihan\", \\\n",
    "             'T', 'F1', 'F2', 'F3', 'M1', 'M2', 'M3',\"job_dummy8\",\"fam_str_dummy5\"],axis=1)\n",
    "X['intercept'] = 1\n",
    "y = df[\"cm_dummy\"]"
   ]
  },
  {
   "cell_type": "code",
   "execution_count": 41,
   "metadata": {},
   "outputs": [],
   "source": [
    "#ロジスティック回帰\n",
    "#from sklearn.linear_model import LogisticRegression\n",
    "#lr = LogisticRegression()\n",
    "#lr.fit(X, y)\n",
    "#ps=lr.predict_proba(X)\n",
    "#ps=ps[:,1]"
   ]
  },
  {
   "cell_type": "code",
   "execution_count": 42,
   "metadata": {},
   "outputs": [
    {
     "name": "stdout",
     "output_type": "stream",
     "text": [
      "Optimization terminated successfully.\n",
      "         Current function value: 0.542117\n",
      "         Iterations 6\n"
     ]
    }
   ],
   "source": [
    "import statsmodels.api as sm\n",
    "lr = sm.Logit(y, X)\n",
    "result = lr.fit()\n",
    "ps=result.predict(X)"
   ]
  },
  {
   "cell_type": "code",
   "execution_count": 44,
   "metadata": {},
   "outputs": [
    {
     "data": {
      "text/html": [
       "<table class=\"simpletable\">\n",
       "<tr>\n",
       "        <td>Model:</td>              <td>Logit</td>       <td>No. Iterations:</td>    <td>6.0000</td>  \n",
       "</tr>\n",
       "<tr>\n",
       "  <td>Dependent Variable:</td>     <td>cm_dummy</td>     <td>Pseudo R-squared:</td>    <td>0.201</td>  \n",
       "</tr>\n",
       "<tr>\n",
       "         <td>Date:</td>        <td>2018-10-31 16:16</td>       <td>AIC:</td>        <td>10886.3417</td>\n",
       "</tr>\n",
       "<tr>\n",
       "   <td>No. Observations:</td>        <td>10000</td>            <td>BIC:</td>        <td>11044.9692</td>\n",
       "</tr>\n",
       "<tr>\n",
       "       <td>Df Model:</td>             <td>21</td>         <td>Log-Likelihood:</td>    <td>-5421.2</td> \n",
       "</tr>\n",
       "<tr>\n",
       "     <td>Df Residuals:</td>          <td>9978</td>           <td>LL-Null:</td>        <td>-6784.2</td> \n",
       "</tr>\n",
       "<tr>\n",
       "      <td>Converged:</td>           <td>1.0000</td>           <td>Scale:</td>         <td>1.0000</td>  \n",
       "</tr>\n",
       "</table>\n",
       "<table class=\"simpletable\">\n",
       "<tr>\n",
       "         <td></td>          <th>Coef.</th>  <th>Std.Err.</th>     <th>z</th>     <th>P>|z|</th> <th>[0.025</th>  <th>0.975]</th> \n",
       "</tr>\n",
       "<tr>\n",
       "  <th>area_kanto</th>      <td>0.4050</td>   <td>0.0790</td>   <td>5.1239</td>  <td>0.0000</td> <td>0.2501</td>  <td>0.5599</td> \n",
       "</tr>\n",
       "<tr>\n",
       "  <th>area_tokai</th>      <td>-0.7233</td>  <td>0.0765</td>   <td>-9.4490</td> <td>0.0000</td> <td>-0.8733</td> <td>-0.5732</td>\n",
       "</tr>\n",
       "<tr>\n",
       "  <th>area_keihanshin</th> <td>-2.0420</td>  <td>0.0756</td>  <td>-27.0074</td> <td>0.0000</td> <td>-2.1902</td> <td>-1.8938</td>\n",
       "</tr>\n",
       "<tr>\n",
       "  <th>age</th>             <td>-0.0026</td>  <td>0.0029</td>   <td>-0.8871</td> <td>0.3750</td> <td>-0.0084</td> <td>0.0032</td> \n",
       "</tr>\n",
       "<tr>\n",
       "  <th>sex</th>             <td>0.0006</td>   <td>0.0647</td>   <td>0.0092</td>  <td>0.9927</td> <td>-0.1262</td> <td>0.1273</td> \n",
       "</tr>\n",
       "<tr>\n",
       "  <th>marry_dummy</th>     <td>-0.0781</td>  <td>0.0856</td>   <td>-0.9134</td> <td>0.3610</td> <td>-0.2458</td> <td>0.0895</td> \n",
       "</tr>\n",
       "<tr>\n",
       "  <th>job_dummy1</th>      <td>0.1752</td>   <td>0.1562</td>   <td>1.1219</td>  <td>0.2619</td> <td>-0.1309</td> <td>0.4814</td> \n",
       "</tr>\n",
       "<tr>\n",
       "  <th>job_dummy2</th>      <td>0.1651</td>   <td>0.1677</td>   <td>0.9842</td>  <td>0.3250</td> <td>-0.1637</td> <td>0.4938</td> \n",
       "</tr>\n",
       "<tr>\n",
       "  <th>job_dummy3</th>      <td>0.5399</td>   <td>0.1604</td>   <td>3.3659</td>  <td>0.0008</td> <td>0.2255</td>  <td>0.8543</td> \n",
       "</tr>\n",
       "<tr>\n",
       "  <th>job_dummy4</th>      <td>0.3604</td>   <td>0.2433</td>   <td>1.4811</td>  <td>0.1386</td> <td>-0.1165</td> <td>0.8372</td> \n",
       "</tr>\n",
       "<tr>\n",
       "  <th>job_dummy5</th>      <td>0.6414</td>   <td>0.1520</td>   <td>4.2193</td>  <td>0.0000</td> <td>0.3435</td>  <td>0.9393</td> \n",
       "</tr>\n",
       "<tr>\n",
       "  <th>job_dummy6</th>      <td>0.2848</td>   <td>0.1581</td>   <td>1.8010</td>  <td>0.0717</td> <td>-0.0251</td> <td>0.5947</td> \n",
       "</tr>\n",
       "<tr>\n",
       "  <th>job_dummy7</th>      <td>0.1540</td>   <td>0.1834</td>   <td>0.8394</td>  <td>0.4013</td> <td>-0.2056</td> <td>0.5135</td> \n",
       "</tr>\n",
       "<tr>\n",
       "  <th>inc</th>             <td>-0.0005</td>  <td>0.0002</td>   <td>-2.9190</td> <td>0.0035</td> <td>-0.0008</td> <td>-0.0002</td>\n",
       "</tr>\n",
       "<tr>\n",
       "  <th>pmoney</th>          <td>0.0119</td>   <td>0.0077</td>   <td>1.5434</td>  <td>0.1227</td> <td>-0.0032</td> <td>0.0271</td> \n",
       "</tr>\n",
       "<tr>\n",
       "  <th>fam_str_dummy1</th>  <td>0.7640</td>   <td>0.2045</td>   <td>3.7359</td>  <td>0.0002</td> <td>0.3632</td>  <td>1.1648</td> \n",
       "</tr>\n",
       "<tr>\n",
       "  <th>fam_str_dummy2</th>  <td>1.0033</td>   <td>0.2176</td>   <td>4.6118</td>  <td>0.0000</td> <td>0.5769</td>  <td>1.4297</td> \n",
       "</tr>\n",
       "<tr>\n",
       "  <th>fam_str_dummy3</th>  <td>0.6137</td>   <td>0.2021</td>   <td>3.0373</td>  <td>0.0024</td> <td>0.2177</td>  <td>1.0098</td> \n",
       "</tr>\n",
       "<tr>\n",
       "  <th>fam_str_dummy4</th>  <td>0.1799</td>   <td>0.2216</td>   <td>0.8121</td>  <td>0.4167</td> <td>-0.2543</td> <td>0.6142</td> \n",
       "</tr>\n",
       "<tr>\n",
       "  <th>child_dummy</th>     <td>0.3142</td>   <td>0.0743</td>   <td>4.2269</td>  <td>0.0000</td> <td>0.1685</td>  <td>0.4599</td> \n",
       "</tr>\n",
       "<tr>\n",
       "  <th>TVwatch_day</th>     <td>0.0001</td>   <td>0.0000</td>   <td>31.9917</td> <td>0.0000</td> <td>0.0001</td>  <td>0.0001</td> \n",
       "</tr>\n",
       "<tr>\n",
       "  <th>intercept</th>       <td>-1.7709</td>  <td>0.2615</td>   <td>-6.7728</td> <td>0.0000</td> <td>-2.2833</td> <td>-1.2584</td>\n",
       "</tr>\n",
       "</table>"
      ],
      "text/plain": [
       "<class 'statsmodels.iolib.summary2.Summary'>\n",
       "\"\"\"\n",
       "                         Results: Logit\n",
       "=================================================================\n",
       "Model:              Logit            No. Iterations:   6.0000    \n",
       "Dependent Variable: cm_dummy         Pseudo R-squared: 0.201     \n",
       "Date:               2018-10-31 16:16 AIC:              10886.3417\n",
       "No. Observations:   10000            BIC:              11044.9692\n",
       "Df Model:           21               Log-Likelihood:   -5421.2   \n",
       "Df Residuals:       9978             LL-Null:          -6784.2   \n",
       "Converged:          1.0000           Scale:            1.0000    \n",
       "-----------------------------------------------------------------\n",
       "                  Coef.  Std.Err.    z     P>|z|   [0.025  0.975]\n",
       "-----------------------------------------------------------------\n",
       "area_kanto        0.4050   0.0790   5.1239 0.0000  0.2501  0.5599\n",
       "area_tokai       -0.7233   0.0765  -9.4490 0.0000 -0.8733 -0.5732\n",
       "area_keihanshin  -2.0420   0.0756 -27.0074 0.0000 -2.1902 -1.8938\n",
       "age              -0.0026   0.0029  -0.8871 0.3750 -0.0084  0.0032\n",
       "sex               0.0006   0.0647   0.0092 0.9927 -0.1262  0.1273\n",
       "marry_dummy      -0.0781   0.0856  -0.9134 0.3610 -0.2458  0.0895\n",
       "job_dummy1        0.1752   0.1562   1.1219 0.2619 -0.1309  0.4814\n",
       "job_dummy2        0.1651   0.1677   0.9842 0.3250 -0.1637  0.4938\n",
       "job_dummy3        0.5399   0.1604   3.3659 0.0008  0.2255  0.8543\n",
       "job_dummy4        0.3604   0.2433   1.4811 0.1386 -0.1165  0.8372\n",
       "job_dummy5        0.6414   0.1520   4.2193 0.0000  0.3435  0.9393\n",
       "job_dummy6        0.2848   0.1581   1.8010 0.0717 -0.0251  0.5947\n",
       "job_dummy7        0.1540   0.1834   0.8394 0.4013 -0.2056  0.5135\n",
       "inc              -0.0005   0.0002  -2.9190 0.0035 -0.0008 -0.0002\n",
       "pmoney            0.0119   0.0077   1.5434 0.1227 -0.0032  0.0271\n",
       "fam_str_dummy1    0.7640   0.2045   3.7359 0.0002  0.3632  1.1648\n",
       "fam_str_dummy2    1.0033   0.2176   4.6118 0.0000  0.5769  1.4297\n",
       "fam_str_dummy3    0.6137   0.2021   3.0373 0.0024  0.2177  1.0098\n",
       "fam_str_dummy4    0.1799   0.2216   0.8121 0.4167 -0.2543  0.6142\n",
       "child_dummy       0.3142   0.0743   4.2269 0.0000  0.1685  0.4599\n",
       "TVwatch_day       0.0001   0.0000  31.9917 0.0000  0.0001  0.0001\n",
       "intercept        -1.7709   0.2615  -6.7728 0.0000 -2.2833 -1.2584\n",
       "=================================================================\n",
       "\n",
       "\"\"\""
      ]
     },
     "execution_count": 44,
     "metadata": {},
     "output_type": "execute_result"
    }
   ],
   "source": [
    "#傾向スコアの当てはまり確認\n",
    "result.summary2()"
   ]
  },
  {
   "cell_type": "code",
   "execution_count": 45,
   "metadata": {},
   "outputs": [
    {
     "data": {
      "text/plain": [
       "0.7917028470947529"
      ]
     },
     "execution_count": 45,
     "metadata": {},
     "output_type": "execute_result"
    }
   ],
   "source": [
    "from sklearn import metrics\n",
    "# FPR, TPR(, しきい値) を算出\n",
    "fpr, tpr, thresholds = metrics.roc_curve(y, ps)\n",
    "# ついでにAUCも\n",
    "auc = metrics.auc(fpr, tpr)\n",
    "auc"
   ]
  },
  {
   "cell_type": "code",
   "execution_count": 46,
   "metadata": {},
   "outputs": [
    {
     "name": "stderr",
     "output_type": "stream",
     "text": [
      "/home/mizutani/anaconda3/lib/python3.6/site-packages/ipykernel_launcher.py:5: SettingWithCopyWarning: \n",
      "A value is trying to be set on a copy of a slice from a DataFrame.\n",
      "Try using .loc[row_indexer,col_indexer] = value instead\n",
      "\n",
      "See the caveats in the documentation: http://pandas.pydata.org/pandas-docs/stable/indexing.html#indexing-view-versus-copy\n",
      "  \"\"\"\n"
     ]
    },
    {
     "data": {
      "text/plain": [
       "611.4672067284943"
      ]
     },
     "execution_count": 46,
     "metadata": {},
     "output_type": "execute_result"
    }
   ],
   "source": [
    "#層別マッチング(0.05刻み)\n",
    "interval = np.arange(0,1.05,0.05)\n",
    "match_list = []\n",
    "table=df[[\"cm_dummy\",\"gamesecond\"]]\n",
    "table[\"ps\"]=ps\n",
    "for i in range(0,len(interval)-1):\n",
    "    temp0 = table[(table['cm_dummy']==0) & (interval[i] < table['ps']) & (table['ps'] < interval[i+1])]\n",
    "    temp1 = table[(table['cm_dummy']==1) & (interval[i] < table['ps']) & (table['ps'] < interval[i+1])]\n",
    "    if (len(temp0) > 0) & (len(temp1) > 0):\n",
    "        match_list.append(temp1['gamesecond'].mean()-temp0['gamesecond'].mean())\n",
    "\n",
    "np.mean(match_list)"
   ]
  },
  {
   "cell_type": "code",
   "execution_count": 47,
   "metadata": {},
   "outputs": [
    {
     "name": "stdout",
     "output_type": "stream",
     "text": [
      "4143.330591058508\n",
      "2639.412134742171\n"
     ]
    },
    {
     "data": {
      "text/plain": [
       "1503.9184563163367"
      ]
     },
     "execution_count": 47,
     "metadata": {},
     "output_type": "execute_result"
    }
   ],
   "source": [
    "#重み付け推定法\n",
    "z1=df[\"cm_dummy\"]\n",
    "y=df[\"gamesecond\"]\n",
    "\n",
    "ipwe1 = sum((z1*y)/ps)/sum(z1/ps)\n",
    "ipwe0 = sum(((1-z1)*y)/(1-ps))/sum((1-z1)/(1-ps))\n",
    "print(ipwe1)\n",
    "print(ipwe0)\n",
    "ipwe1 - ipwe0"
   ]
  },
  {
   "cell_type": "code",
   "execution_count": 48,
   "metadata": {},
   "outputs": [
    {
     "name": "stdout",
     "output_type": "stream",
     "text": [
      "                            WLS Regression Results                            \n",
      "==============================================================================\n",
      "Dep. Variable:             gamesecond   R-squared:                       0.076\n",
      "Model:                            WLS   Adj. R-squared:                  0.074\n",
      "Method:                 Least Squares   F-statistic:                     33.93\n",
      "Date:                Wed, 31 Oct 2018   Prob (F-statistic):           4.09e-64\n",
      "Time:                        16:17:19   Log-Likelihood:                -47174.\n",
      "No. Observations:                4144   AIC:                         9.437e+04\n",
      "Df Residuals:                    4133   BIC:                         9.444e+04\n",
      "Df Model:                          10                                         \n",
      "Covariance Type:            nonrobust                                         \n",
      "===================================================================================\n",
      "                      coef    std err          t      P>|t|      [0.025      0.975]\n",
      "-----------------------------------------------------------------------------------\n",
      "area_kanto      -2729.1755   1083.672     -2.518      0.012   -4853.757    -604.594\n",
      "area_tokai      -3030.9467    996.861     -3.040      0.002   -4985.330   -1076.563\n",
      "area_keihanshin  7833.8995    807.274      9.704      0.000    6251.208    9416.591\n",
      "child_dummy     -1938.9461    666.285     -2.910      0.004   -3245.223    -632.669\n",
      "T                6413.3056   2904.280      2.208      0.027     719.354    1.21e+04\n",
      "F1              -1042.6230   1221.134     -0.854      0.393   -3436.704    1351.457\n",
      "F2               1142.6130   1047.034      1.091      0.275    -910.138    3195.364\n",
      "F3               -265.0646   1538.977     -0.172      0.863   -3282.288    2752.159\n",
      "M1               1247.2510   1122.243      1.111      0.266    -952.950    3447.452\n",
      "M2               9624.8208    929.891     10.350      0.000    7801.733    1.14e+04\n",
      "intercept         498.5878    819.566      0.608      0.543   -1108.202    2105.378\n",
      "==============================================================================\n",
      "Omnibus:                     6477.770   Durbin-Watson:                   0.248\n",
      "Prob(Omnibus):                  0.000   Jarque-Bera (JB):          3118355.208\n",
      "Skew:                           9.977   Prob(JB):                         0.00\n",
      "Kurtosis:                     135.898   Cond. No.                         11.7\n",
      "==============================================================================\n",
      "\n",
      "Warnings:\n",
      "[1] Standard Errors assume that the covariance matrix of the errors is correctly specified.\n"
     ]
    }
   ],
   "source": [
    "#weightをつけて線形回帰を再実施\n",
    "df[\"ps\"]=ps\n",
    "X=df.query(\"cm_dummy==1\")[['area_kanto','area_tokai',\n",
    "       'area_keihanshin', 'child_dummy', 'T', 'F1', 'F2', 'F3', 'M1', 'M2']]\n",
    "X[\"intercept\"]=1\n",
    "y=df.query(\"cm_dummy==1\")[\"gamesecond\"]\n",
    "weight=df.query(\"cm_dummy==1\")[\"ps\"]\n",
    "import statsmodels.api as sm\n",
    "mod_wls = sm.WLS(y, X, weights=1/weight)\n",
    "res_wls = mod_wls.fit()\n",
    "print(res_wls.summary())"
   ]
  },
  {
   "cell_type": "code",
   "execution_count": 49,
   "metadata": {},
   "outputs": [
    {
     "name": "stdout",
     "output_type": "stream",
     "text": [
      "                            WLS Regression Results                            \n",
      "==============================================================================\n",
      "Dep. Variable:             gamesecond   R-squared:                       0.019\n",
      "Model:                            WLS   Adj. R-squared:                  0.017\n",
      "Method:                 Least Squares   F-statistic:                     11.19\n",
      "Date:                Wed, 31 Oct 2018   Prob (F-statistic):           3.55e-19\n",
      "Time:                        16:17:22   Log-Likelihood:                -66030.\n",
      "No. Observations:                5856   AIC:                         1.321e+05\n",
      "Df Residuals:                    5845   BIC:                         1.322e+05\n",
      "Df Model:                          10                                         \n",
      "Covariance Type:            nonrobust                                         \n",
      "===================================================================================\n",
      "                      coef    std err          t      P>|t|      [0.025      0.975]\n",
      "-----------------------------------------------------------------------------------\n",
      "area_kanto        -28.2667    846.665     -0.033      0.973   -1688.044    1631.510\n",
      "area_tokai         41.5213    646.050      0.064      0.949   -1224.977    1308.019\n",
      "area_keihanshin -1091.3893    607.278     -1.797      0.072   -2281.880      99.101\n",
      "child_dummy      1827.2567    511.619      3.572      0.000     824.295    2830.219\n",
      "T                7141.7043   2363.251      3.022      0.003    2508.859    1.18e+04\n",
      "F1                382.8317    858.520      0.446      0.656   -1300.185    2065.848\n",
      "F2                944.7274    874.040      1.081      0.280    -768.714    2658.169\n",
      "F3               -282.5235   1035.277     -0.273      0.785   -2312.049    1747.002\n",
      "M1               7164.7762    847.539      8.454      0.000    5503.287    8826.266\n",
      "M2                981.1356    699.318      1.403      0.161    -389.786    2352.057\n",
      "intercept         631.8590    596.662      1.059      0.290    -537.820    1801.538\n",
      "==============================================================================\n",
      "Omnibus:                     9211.494   Durbin-Watson:                   0.175\n",
      "Prob(Omnibus):                  0.000   Jarque-Bera (JB):          4622111.459\n",
      "Skew:                          10.156   Prob(JB):                         0.00\n",
      "Kurtosis:                     139.127   Cond. No.                         12.7\n",
      "==============================================================================\n",
      "\n",
      "Warnings:\n",
      "[1] Standard Errors assume that the covariance matrix of the errors is correctly specified.\n"
     ]
    }
   ],
   "source": [
    "df[\"ps\"]=ps\n",
    "X=df.query(\"cm_dummy==0\")[['area_kanto','area_tokai',\n",
    "       'area_keihanshin', 'child_dummy', 'T', 'F1', 'F2', 'F3', 'M1', 'M2']]\n",
    "X[\"intercept\"]=1\n",
    "y=df.query(\"cm_dummy==0\")[\"gamesecond\"]\n",
    "weight=df.query(\"cm_dummy==0\")[\"ps\"]\n",
    "import statsmodels.api as sm\n",
    "mod_wls = sm.WLS(y, X, weights=1/(1-weight))\n",
    "res_wls = mod_wls.fit()\n",
    "print(res_wls.summary())"
   ]
  },
  {
   "cell_type": "markdown",
   "metadata": {},
   "source": [
    "child_dummyはCM接触の有無にほとんど影響しない\n",
    "（説明変数変えると値が結構変わるけど）"
   ]
  },
  {
   "cell_type": "code",
   "execution_count": null,
   "metadata": {},
   "outputs": [],
   "source": []
  }
 ],
 "metadata": {
  "kernelspec": {
   "display_name": "Python 3",
   "language": "python",
   "name": "python3"
  },
  "language_info": {
   "codemirror_mode": {
    "name": "ipython",
    "version": 3
   },
   "file_extension": ".py",
   "mimetype": "text/x-python",
   "name": "python",
   "nbconvert_exporter": "python",
   "pygments_lexer": "ipython3",
   "version": "3.6.4"
  }
 },
 "nbformat": 4,
 "nbformat_minor": 2
}
